{
    "cells": [
        {
            "cell_type": "markdown",
            "metadata": {
                "collapsed": true
            },
            "source": "PROBLEM STATEMENT:\n\nThe objective is to locate and recommend to the client which neighbourhood in New York City will be best choice to start a restaurant.\n\nNew York city population and demographic data Data source : https://en.wikipedia.org/wiki/New_York_City ; https://en.wikipedia.org/wiki/Demographics_of_New_York_City. Web scraping techniques was used to get NYC population density and demographics data from Wikipedia."
        },
        {
            "cell_type": "code",
            "execution_count": 1,
            "metadata": {},
            "outputs": [
                {
                    "name": "stdout",
                    "output_type": "stream",
                    "text": "Requirement already satisfied: beautifulsoup4 in /opt/conda/envs/Python36/lib/python3.6/site-packages (4.7.1)\nRequirement already satisfied: soupsieve>=1.2 in /opt/conda/envs/Python36/lib/python3.6/site-packages (from beautifulsoup4) (1.7.1)\nSolving environment: done\n\n## Package Plan ##\n\n  environment location: /opt/conda/envs/Python36\n\n  added / updated specs: \n    - geopy\n\n\nThe following packages will be downloaded:\n\n    package                    |            build\n    ---------------------------|-----------------\n    python_abi-3.6             |          1_cp36m           4 KB  conda-forge\n    geographiclib-1.50         |             py_0          34 KB  conda-forge\n    geopy-2.0.0                |     pyh9f0ad1d_0          63 KB  conda-forge\n    openssl-1.1.1g             |       h516909a_1         2.1 MB  conda-forge\n    certifi-2020.6.20          |   py36h9f0ad1d_0         151 KB  conda-forge\n    ca-certificates-2020.6.20  |       hecda079_0         145 KB  conda-forge\n    ------------------------------------------------------------\n                                           Total:         2.5 MB\n\nThe following NEW packages will be INSTALLED:\n\n    geographiclib:   1.50-py_0          conda-forge\n    geopy:           2.0.0-pyh9f0ad1d_0 conda-forge\n    python_abi:      3.6-1_cp36m        conda-forge\n\nThe following packages will be UPDATED:\n\n    certifi:         2020.6.20-py36_0               --> 2020.6.20-py36h9f0ad1d_0 conda-forge\n    openssl:         1.1.1g-h7b6447c_0              --> 1.1.1g-h516909a_1        conda-forge\n\nThe following packages will be DOWNGRADED:\n\n    ca-certificates: 2020.6.24-0                    --> 2020.6.20-hecda079_0     conda-forge\n\n\nDownloading and Extracting Packages\npython_abi-3.6       | 4 KB      | ##################################### | 100% \ngeographiclib-1.50   | 34 KB     | ##################################### | 100% \ngeopy-2.0.0          | 63 KB     | ##################################### | 100% \nopenssl-1.1.1g       | 2.1 MB    | ##################################### | 100% \ncertifi-2020.6.20    | 151 KB    | ##################################### | 100% \nca-certificates-2020 | 145 KB    | ##################################### | 100% \nPreparing transaction: done\nVerifying transaction: done\nExecuting transaction: done\nSolving environment: done\n\n## Package Plan ##\n\n  environment location: /opt/conda/envs/Python36\n\n  added / updated specs: \n    - folium=0.5.0\n\n\nThe following packages will be downloaded:\n\n    package                    |            build\n    ---------------------------|-----------------\n    branca-0.4.1               |             py_0          26 KB  conda-forge\n    vincent-0.4.4              |             py_1          28 KB  conda-forge\n    folium-0.5.0               |             py_0          45 KB  conda-forge\n    altair-4.1.0               |             py_1         614 KB  conda-forge\n    ------------------------------------------------------------\n                                           Total:         713 KB\n\nThe following NEW packages will be INSTALLED:\n\n    altair:  4.1.0-py_1 conda-forge\n    branca:  0.4.1-py_0 conda-forge\n    folium:  0.5.0-py_0 conda-forge\n    vincent: 0.4.4-py_1 conda-forge\n\n\nDownloading and Extracting Packages\nbranca-0.4.1         | 26 KB     | ##################################### | 100% \nvincent-0.4.4        | 28 KB     | ##################################### | 100% \nfolium-0.5.0         | 45 KB     | ##################################### | 100% \naltair-4.1.0         | 614 KB    | ##################################### | 100% \nPreparing transaction: done\nVerifying transaction: done\nExecuting transaction: done\nRequirement already satisfied: lxml in /opt/conda/envs/Python36/lib/python3.6/site-packages (4.3.1)\nRequirement already satisfied: et_xmlfile in /opt/conda/envs/Python36/lib/python3.6/site-packages (1.0.1)\nLibraries imported.\n"
                }
            ],
            "source": "import pandas as pd\nimport numpy as np\nimport requests # library to handle requests\nimport json # library to handle JSON files\n\npd.set_option('display.max_columns', None)\npd.set_option('display.max_rows', None)\n\n!pip install beautifulsoup4\nfrom bs4 import BeautifulSoup\n\n!conda install -c conda-forge geopy --yes # uncomment this line if you haven't completed the Foursquare API lab\nfrom geopy.geocoders import Nominatim # convert an address into latitude and longitude values\n\nfrom pandas.io.json import json_normalize # tranform JSON file into a pandas dataframe\n\nimport urllib.request\nfrom urllib.request import urlopen\n\n# Matplotlib and associated plotting modules\nimport matplotlib.pyplot as plt\nimport matplotlib.cm as cm\nimport matplotlib.colors as colors\nimport matplotlib as mp\nimport re\nimport csv\nimport seaborn as sns\nimport time\nfrom datetime import datetime\nimport matplotlib.dates as mdates\nimport matplotlib.ticker as ticker\n%matplotlib inline\n\n\n# import k-means from clustering stage\nfrom sklearn.cluster import KMeans\n\n!conda install -c conda-forge folium=0.5.0 --yes # uncomment this line if you haven't completed the Foursquare API lab\nimport folium # map rendering library\n\n\n!pip install lxml\n!pip install et_xmlfile\n\nprint('Libraries imported.')\n"
        },
        {
            "cell_type": "code",
            "execution_count": 2,
            "metadata": {},
            "outputs": [],
            "source": "source = requests.get(\"https://en.wikipedia.org/wiki/New_York_City\").text\nsoup = BeautifulSoup(source, \"html.parser\")\nMy_Neighborhoods_NYC_Table = soup.find('table', class_='wikitable sortable')"
        },
        {
            "cell_type": "code",
            "execution_count": 3,
            "metadata": {},
            "outputs": [
                {
                    "name": "stdout",
                    "output_type": "stream",
                    "text": "[{'borough': 'The Bronx', 'county': 'Bronx', 'population': 1418207.0, 'gdp_billions': 42.695, 'gdp_per_capita': 30100.0, 'land_sqm': 42.1, 'land_sqkm': 109.04, 'persons_sqm': 33867.0, 'persons_sqkm': 13006.0}, {'borough': 'Brooklyn', 'county': 'Kings', 'population': 2559903.0, 'gdp_billions': 91.559, 'gdp_per_capita': 35800.0, 'land_sqm': 70.82, 'land_sqkm': 183.42, 'persons_sqm': 36147.0, 'persons_sqkm': 13957.0}, {'borough': 'Manhattan', 'county': 'New York', 'population': 1628706.0, 'gdp_billions': 600.244, 'gdp_per_capita': 368500.0, 'land_sqm': 22.83, 'land_sqkm': 59.13, 'persons_sqm': 71341.0, 'persons_sqkm': 27544.0}, {'borough': 'Queens', 'county': 'Queens', 'population': 2253858.0, 'gdp_billions': 93.31, 'gdp_per_capita': 41400.0, 'land_sqm': 108.53, 'land_sqkm': 281.09, 'persons_sqm': 20767.0, 'persons_sqkm': 8018.0}, {'borough': 'Staten Island', 'county': 'Richmond', 'population': 476143.0, 'gdp_billions': 14.514, 'gdp_per_capita': 30500.0, 'land_sqm': 58.37, 'land_sqkm': 151.18, 'persons_sqm': 8157.0, 'persons_sqkm': 3150.0}]\n"
                }
            ],
            "source": "rows = My_Neighborhoods_NYC_Table.select(\"tbody > tr\")[3:8]\n\nMy_boroughs = []\nfor row in rows:\n    My_borough = {}\n    tds = row.select(\"td\")\n    My_borough[\"borough\"] = tds[0].text.strip()\n    My_borough[\"county\"] = tds[1].text.strip()\n    My_borough[\"population\"] = float(tds[2].text.strip().replace(\",\",\"\"))\n    My_borough[\"gdp_billions\"] = float(tds[3].text.strip().replace(\",\",\"\"))\n    My_borough[\"gdp_per_capita\"] = float(tds[4].text.strip().replace(\",\",\"\"))\n    My_borough[\"land_sqm\"] = float(tds[5].text.strip().replace(\",\",\"\"))\n    My_borough[\"land_sqkm\"] = float(tds[6].text.strip().replace(\",\",\"\"))\n    My_borough[\"persons_sqm\"] = float(tds[7].text.strip().replace(\",\",\"\"))\n    My_borough[\"persons_sqkm\"] = float(tds[8].text.strip().replace(\",\",\"\"))\n    \n    My_boroughs.append(My_borough)\n\nprint(My_boroughs)"
        },
        {
            "cell_type": "code",
            "execution_count": 4,
            "metadata": {},
            "outputs": [
                {
                    "data": {
                        "text/html": "<div>\n<style scoped>\n    .dataframe tbody tr th:only-of-type {\n        vertical-align: middle;\n    }\n\n    .dataframe tbody tr th {\n        vertical-align: top;\n    }\n\n    .dataframe thead th {\n        text-align: right;\n    }\n</style>\n<table border=\"1\" class=\"dataframe\">\n  <thead>\n    <tr style=\"text-align: right;\">\n      <th></th>\n      <th>borough</th>\n      <th>county</th>\n      <th>population</th>\n      <th>gdp_per_capita</th>\n      <th>persons_sqkm</th>\n    </tr>\n  </thead>\n  <tbody>\n    <tr>\n      <th>0</th>\n      <td>The Bronx</td>\n      <td>Bronx</td>\n      <td>1418207.0</td>\n      <td>30100.0</td>\n      <td>13006.0</td>\n    </tr>\n    <tr>\n      <th>1</th>\n      <td>Brooklyn</td>\n      <td>Kings</td>\n      <td>2559903.0</td>\n      <td>35800.0</td>\n      <td>13957.0</td>\n    </tr>\n    <tr>\n      <th>2</th>\n      <td>Manhattan</td>\n      <td>New York</td>\n      <td>1628706.0</td>\n      <td>368500.0</td>\n      <td>27544.0</td>\n    </tr>\n    <tr>\n      <th>3</th>\n      <td>Queens</td>\n      <td>Queens</td>\n      <td>2253858.0</td>\n      <td>41400.0</td>\n      <td>8018.0</td>\n    </tr>\n    <tr>\n      <th>4</th>\n      <td>Staten Island</td>\n      <td>Richmond</td>\n      <td>476143.0</td>\n      <td>30500.0</td>\n      <td>3150.0</td>\n    </tr>\n  </tbody>\n</table>\n</div>",
                        "text/plain": "         borough    county  population  gdp_per_capita  persons_sqkm\n0      The Bronx     Bronx   1418207.0         30100.0       13006.0\n1       Brooklyn     Kings   2559903.0         35800.0       13957.0\n2      Manhattan  New York   1628706.0        368500.0       27544.0\n3         Queens    Queens   2253858.0         41400.0        8018.0\n4  Staten Island  Richmond    476143.0         30500.0        3150.0"
                    },
                    "execution_count": 4,
                    "metadata": {},
                    "output_type": "execute_result"
                }
            ],
            "source": "df = pd.DataFrame(My_boroughs, columns=[\"borough\",\"county\", \"population\", \"gdp_per_capita\", \"persons_sqkm\"]) \ndf.head()"
        },
        {
            "cell_type": "code",
            "execution_count": 5,
            "metadata": {},
            "outputs": [
                {
                    "name": "stdout",
                    "output_type": "stream",
                    "text": "[{'jurisdiction': 'Brooklyn', 'population_census': '2,465,326', '%_white': 41.2, '%_black_or_african_amercian': 36.4, '%_Asian': 7.5, '%_other': 10.6, '%_mixed_race': 4.3, '%_hispanic_latino_of_other_race': 19.8, '%_catholic': 4.0, '%_jewish': 8.0}, {'jurisdiction': 'Queens', 'population_census': '2,229,379', '%_white': 44.1, '%_black_or_african_amercian': 20.0, '%_Asian': 17.6, '%_other': 12.3, '%_mixed_race': 6.1, '%_hispanic_latino_of_other_race': 25.0, '%_catholic': 37.0, '%_jewish': 5.0}, {'jurisdiction': 'Manhattan', 'population_census': '1,537,195', '%_white': 54.4, '%_black_or_african_amercian': 17.4, '%_Asian': 9.4, '%_other': 14.7, '%_mixed_race': 4.1, '%_hispanic_latino_of_other_race': 27.2, '%_catholic': 11.0, '%_jewish': 9.0}, {'jurisdiction': 'Bronx', 'population_census': '1,332,650', '%_white': 29.9, '%_black_or_african_amercian': 35.6, '%_Asian': 3.0, '%_other': 25.7, '%_mixed_race': 5.8, '%_hispanic_latino_of_other_race': 48.4, '%_catholic': 14.0, '%_jewish': 5.0}, {'jurisdiction': 'Staten Island', 'population_census': '443,728', '%_white': 77.6, '%_black_or_african_amercian': 9.7, '%_Asian': 5.7, '%_other': 4.3, '%_mixed_race': 2.7, '%_hispanic_latino_of_other_race': 12.1, '%_catholic': 11.0, '%_jewish': 5.0}, {'jurisdiction': 'NYC Total', 'population_census': '8,008,278', '%_white': 44.7, '%_black_or_african_amercian': 26.6, '%_Asian': 9.8, '%_other': 14.0, '%_mixed_race': 4.9, '%_hispanic_latino_of_other_race': 27.0, '%_catholic': 17.0, '%_jewish': 6.0}]\n"
                }
            ],
            "source": "source = requests.get('https://en.wikipedia.org/wiki/Demographics_of_New_York_City').text\nsoup = BeautifulSoup(source, \"html.parser\")\nMy_Population_Census_Table = soup.select_one('.wikitable:nth-of-type(5)') #use css selector to target correct table.\n\nMy_jurisdictions = []\nrows = My_Population_Census_Table.select(\"tbody > tr\")[2:8]\nfor row in rows:\n    My_jurisdiction = {}\n    tds = row.select('td')\n    My_jurisdiction[\"jurisdiction\"] = tds[0].text.strip()\n    My_jurisdiction[\"population_census\"] = tds[1].text.strip()\n    My_jurisdiction[\"%_white\"] = float(tds[2].text.strip().replace(\",\",\"\"))\n    My_jurisdiction[\"%_black_or_african_amercian\"] = float(tds[3].text.strip().replace(\",\",\"\"))\n    My_jurisdiction[\"%_Asian\"] = float(tds[4].text.strip().replace(\",\",\"\"))\n    My_jurisdiction[\"%_other\"] = float(tds[5].text.strip().replace(\",\",\"\"))\n    My_jurisdiction[\"%_mixed_race\"] = float(tds[6].text.strip().replace(\",\",\"\"))\n    My_jurisdiction[\"%_hispanic_latino_of_other_race\"] = float(tds[7].text.strip().replace(\",\",\"\"))\n    My_jurisdiction[\"%_catholic\"] = float(tds[10].text.strip().replace(\",\",\"\"))\n    My_jurisdiction[\"%_jewish\"] = float(tds[12].text.strip().replace(\",\",\"\"))\n    \n    My_jurisdictions.append(My_jurisdiction)\n\nprint(My_jurisdictions)"
        },
        {
            "cell_type": "code",
            "execution_count": 6,
            "metadata": {
                "scrolled": false
            },
            "outputs": [
                {
                    "data": {
                        "text/html": "<div>\n<style scoped>\n    .dataframe tbody tr th:only-of-type {\n        vertical-align: middle;\n    }\n\n    .dataframe tbody tr th {\n        vertical-align: top;\n    }\n\n    .dataframe thead th {\n        text-align: right;\n    }\n</style>\n<table border=\"1\" class=\"dataframe\">\n  <thead>\n    <tr style=\"text-align: right;\">\n      <th></th>\n      <th>jurisdiction</th>\n      <th>%_white</th>\n      <th>%_black_or_african_amercian</th>\n      <th>%_Asian</th>\n      <th>%_other</th>\n      <th>%_mixed_race</th>\n      <th>%_hispanic_latino_of_other_race</th>\n    </tr>\n  </thead>\n  <tbody>\n    <tr>\n      <th>0</th>\n      <td>Brooklyn</td>\n      <td>41.2</td>\n      <td>36.4</td>\n      <td>7.5</td>\n      <td>10.6</td>\n      <td>4.3</td>\n      <td>19.8</td>\n    </tr>\n    <tr>\n      <th>1</th>\n      <td>Queens</td>\n      <td>44.1</td>\n      <td>20.0</td>\n      <td>17.6</td>\n      <td>12.3</td>\n      <td>6.1</td>\n      <td>25.0</td>\n    </tr>\n    <tr>\n      <th>2</th>\n      <td>Manhattan</td>\n      <td>54.4</td>\n      <td>17.4</td>\n      <td>9.4</td>\n      <td>14.7</td>\n      <td>4.1</td>\n      <td>27.2</td>\n    </tr>\n    <tr>\n      <th>3</th>\n      <td>Bronx</td>\n      <td>29.9</td>\n      <td>35.6</td>\n      <td>3.0</td>\n      <td>25.7</td>\n      <td>5.8</td>\n      <td>48.4</td>\n    </tr>\n    <tr>\n      <th>4</th>\n      <td>Staten Island</td>\n      <td>77.6</td>\n      <td>9.7</td>\n      <td>5.7</td>\n      <td>4.3</td>\n      <td>2.7</td>\n      <td>12.1</td>\n    </tr>\n  </tbody>\n</table>\n</div>",
                        "text/plain": "    jurisdiction  %_white  %_black_or_african_amercian  %_Asian  %_other  \\\n0       Brooklyn     41.2                         36.4      7.5     10.6   \n1         Queens     44.1                         20.0     17.6     12.3   \n2      Manhattan     54.4                         17.4      9.4     14.7   \n3          Bronx     29.9                         35.6      3.0     25.7   \n4  Staten Island     77.6                          9.7      5.7      4.3   \n\n   %_mixed_race  %_hispanic_latino_of_other_race  \n0           4.3                             19.8  \n1           6.1                             25.0  \n2           4.1                             27.2  \n3           5.8                             48.4  \n4           2.7                             12.1  "
                    },
                    "execution_count": 6,
                    "metadata": {},
                    "output_type": "execute_result"
                }
            ],
            "source": "df = pd.DataFrame(My_jurisdictions, columns=[\"jurisdiction\",\"%_white\", \"%_black_or_african_amercian\", \"%_Asian\", \"%_other\", \"%_mixed_race\", \"%_hispanic_latino_of_other_race\"])\ndf.head()"
        },
        {
            "cell_type": "markdown",
            "metadata": {},
            "source": "Preliminary finding indicates that\n\n        1.Queens is the second most populous urban area in New York City (NYC), behind Brooklyn. However, with that being \n          said, it is the most ethnically diverse urban area in NYC with the highest Asian ethnic minority population.\n          \n        2.Despite the fact that Manhattan is the third most populous urban area in New York City (NYC), it has a population\n          density of 27,826 people per square km, making it highest of any borough in the United States. It has the \n          second highest Asian ethnic minority population in NYC.\n          "
        }
    ],
    "metadata": {
        "kernelspec": {
            "display_name": "Python 3.6",
            "language": "python",
            "name": "python3"
        },
        "language_info": {
            "codemirror_mode": {
                "name": "ipython",
                "version": 3
            },
            "file_extension": ".py",
            "mimetype": "text/x-python",
            "name": "python",
            "nbconvert_exporter": "python",
            "pygments_lexer": "ipython3",
            "version": "3.6.9"
        }
    },
    "nbformat": 4,
    "nbformat_minor": 1
}